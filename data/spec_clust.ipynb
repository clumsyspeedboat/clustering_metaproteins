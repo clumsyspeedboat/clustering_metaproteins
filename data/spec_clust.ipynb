{
 "cells": [
  {
   "cell_type": "code",
   "execution_count": 1,
   "id": "73de3528",
   "metadata": {},
   "outputs": [],
   "source": [
    "import pandas as pd \n",
    "import numpy as np\n",
    "import networkx as nx\n",
    "import sys  mj\n",
    "from sklearn.cluster import SpectralClustering\n",
    "import matplotlib.pyplot as plt"
   ]
  },
  {
   "cell_type": "code",
   "execution_count": 2,
   "id": "709fd681",
   "metadata": {
    "scrolled": true
   },
   "outputs": [
    {
     "data": {
      "text/html": [
       "<div>\n",
       "<style scoped>\n",
       "    .dataframe tbody tr th:only-of-type {\n",
       "        vertical-align: middle;\n",
       "    }\n",
       "\n",
       "    .dataframe tbody tr th {\n",
       "        vertical-align: top;\n",
       "    }\n",
       "\n",
       "    .dataframe thead th {\n",
       "        text-align: right;\n",
       "    }\n",
       "</style>\n",
       "<table border=\"1\" class=\"dataframe\">\n",
       "  <thead>\n",
       "    <tr style=\"text-align: right;\">\n",
       "      <th></th>\n",
       "      <th>Unnamed: 0</th>\n",
       "      <th>sid</th>\n",
       "      <th>values</th>\n",
       "      <th>class</th>\n",
       "      <th>did</th>\n",
       "      <th>family</th>\n",
       "      <th>order</th>\n",
       "      <th>genus</th>\n",
       "      <th>phylum</th>\n",
       "      <th>kingdom</th>\n",
       "      <th>metaprotein</th>\n",
       "      <th>species</th>\n",
       "      <th>superkingdom</th>\n",
       "    </tr>\n",
       "  </thead>\n",
       "  <tbody>\n",
       "    <tr>\n",
       "      <th>0</th>\n",
       "      <td>0</td>\n",
       "      <td>1</td>\n",
       "      <td>0</td>\n",
       "      <td>Mammalia</td>\n",
       "      <td>382</td>\n",
       "      <td>Hominidae</td>\n",
       "      <td>Primates</td>\n",
       "      <td>Homo</td>\n",
       "      <td>Chordata</td>\n",
       "      <td>Metazoa</td>\n",
       "      <td>CATG_HUMAN Cathepsin G OS=Homo sapiens GN=CTSG...</td>\n",
       "      <td>Homo sapiens</td>\n",
       "      <td>Eukaryota</td>\n",
       "    </tr>\n",
       "    <tr>\n",
       "      <th>1</th>\n",
       "      <td>1</td>\n",
       "      <td>1</td>\n",
       "      <td>0</td>\n",
       "      <td>Mammalia</td>\n",
       "      <td>2881</td>\n",
       "      <td>Hominidae</td>\n",
       "      <td>Primates</td>\n",
       "      <td>Homo</td>\n",
       "      <td>Chordata</td>\n",
       "      <td>Metazoa</td>\n",
       "      <td>RP1L1_HUMAN Retinitis pigmentosa 1-like 1 prot...</td>\n",
       "      <td>Homo sapiens</td>\n",
       "      <td>Eukaryota</td>\n",
       "    </tr>\n",
       "    <tr>\n",
       "      <th>2</th>\n",
       "      <td>2</td>\n",
       "      <td>1</td>\n",
       "      <td>2</td>\n",
       "      <td>unassigned</td>\n",
       "      <td>2787</td>\n",
       "      <td>unassigned</td>\n",
       "      <td>unassigned</td>\n",
       "      <td>unassigned</td>\n",
       "      <td>Chordata</td>\n",
       "      <td>Metazoa</td>\n",
       "      <td>TTHY_PANTR Transthyretin OS=Pan troglodytes GN...</td>\n",
       "      <td>unassigned</td>\n",
       "      <td>Eukaryota</td>\n",
       "    </tr>\n",
       "    <tr>\n",
       "      <th>3</th>\n",
       "      <td>3</td>\n",
       "      <td>1</td>\n",
       "      <td>0</td>\n",
       "      <td>Actinobacteria</td>\n",
       "      <td>2688</td>\n",
       "      <td>Bifidobacteriaceae</td>\n",
       "      <td>Bifidobacteriales</td>\n",
       "      <td>Bifidobacterium</td>\n",
       "      <td>Actinobacteria</td>\n",
       "      <td>unassigned</td>\n",
       "      <td>TIG_BIFAA Trigger factor OS=Bifidobacterium ad...</td>\n",
       "      <td>unassigned</td>\n",
       "      <td>Bacteria</td>\n",
       "    </tr>\n",
       "    <tr>\n",
       "      <th>4</th>\n",
       "      <td>4</td>\n",
       "      <td>1</td>\n",
       "      <td>0</td>\n",
       "      <td>Bacteroidia</td>\n",
       "      <td>2589</td>\n",
       "      <td>Bacteroidaceae</td>\n",
       "      <td>Bacteroidales</td>\n",
       "      <td>Bacteroides</td>\n",
       "      <td>Bacteroidetes</td>\n",
       "      <td>unassigned</td>\n",
       "      <td>SUSC_BACTN TonB-dependent receptor SusC OS=Bac...</td>\n",
       "      <td>Bacteroides thetaiotaomicron</td>\n",
       "      <td>Bacteria</td>\n",
       "    </tr>\n",
       "  </tbody>\n",
       "</table>\n",
       "</div>"
      ],
      "text/plain": [
       "   Unnamed: 0  sid  values           class   did              family  \\\n",
       "0           0    1       0        Mammalia   382           Hominidae   \n",
       "1           1    1       0        Mammalia  2881           Hominidae   \n",
       "2           2    1       2      unassigned  2787          unassigned   \n",
       "3           3    1       0  Actinobacteria  2688  Bifidobacteriaceae   \n",
       "4           4    1       0     Bacteroidia  2589      Bacteroidaceae   \n",
       "\n",
       "               order            genus          phylum     kingdom  \\\n",
       "0           Primates             Homo        Chordata     Metazoa   \n",
       "1           Primates             Homo        Chordata     Metazoa   \n",
       "2         unassigned       unassigned        Chordata     Metazoa   \n",
       "3  Bifidobacteriales  Bifidobacterium  Actinobacteria  unassigned   \n",
       "4      Bacteroidales      Bacteroides   Bacteroidetes  unassigned   \n",
       "\n",
       "                                         metaprotein  \\\n",
       "0  CATG_HUMAN Cathepsin G OS=Homo sapiens GN=CTSG...   \n",
       "1  RP1L1_HUMAN Retinitis pigmentosa 1-like 1 prot...   \n",
       "2  TTHY_PANTR Transthyretin OS=Pan troglodytes GN...   \n",
       "3  TIG_BIFAA Trigger factor OS=Bifidobacterium ad...   \n",
       "4  SUSC_BACTN TonB-dependent receptor SusC OS=Bac...   \n",
       "\n",
       "                        species superkingdom  \n",
       "0                  Homo sapiens    Eukaryota  \n",
       "1                  Homo sapiens    Eukaryota  \n",
       "2                    unassigned    Eukaryota  \n",
       "3                    unassigned     Bacteria  \n",
       "4  Bacteroides thetaiotaomicron     Bacteria  "
      ]
     },
     "execution_count": 2,
     "metadata": {},
     "output_type": "execute_result"
    }
   ],
   "source": [
    "df_csv = pd.read_csv(\"mp_samples.csv\")\n",
    "df_csv_data = df_csv.iloc[:, 2:2971]\n",
    "df_csv.head()\n",
    "df_graph = pd.read_csv(\"graph.csv\")\n",
    "df_graph.head()"
   ]
  },
  {
   "cell_type": "code",
   "execution_count": 50,
   "id": "6ac4cd07",
   "metadata": {},
   "outputs": [
    {
     "data": {
      "text/plain": [
       "(142512, 13)"
      ]
     },
     "execution_count": 50,
     "metadata": {},
     "output_type": "execute_result"
    }
   ],
   "source": [
    "df_graph.shape"
   ]
  },
  {
   "cell_type": "code",
   "execution_count": 3,
   "id": "cfe4ee84",
   "metadata": {},
   "outputs": [],
   "source": [
    "def edge_list_from_graph(df_graph):\n",
    "    \"\"\"Function to extract edge list from the whole graph\n",
    "    \n",
    "    Args: \n",
    "        df_graph (dataframe): dataframe containing the whole graph with all the edges in rows\n",
    "    \"\"\"\n",
    "    df_edge_list = df_graph[['sid', 'did', 'values']]\n",
    "    df_edge_list['sid'] = 'p' + df_edge_list['sid'].astype(str)\n",
    "    df_edge_list['did'] = 'mp' + df_edge_list['did'].astype(str)\n",
    "    \n",
    "    return df_edge_list"
   ]
  },
  {
   "cell_type": "code",
   "execution_count": 4,
   "id": "db738633",
   "metadata": {},
   "outputs": [
    {
     "name": "stderr",
     "output_type": "stream",
     "text": [
      "C:\\Users\\49171\\AppData\\Local\\Temp\\ipykernel_14604\\992845728.py:8: SettingWithCopyWarning: \n",
      "A value is trying to be set on a copy of a slice from a DataFrame.\n",
      "Try using .loc[row_indexer,col_indexer] = value instead\n",
      "\n",
      "See the caveats in the documentation: https://pandas.pydata.org/pandas-docs/stable/user_guide/indexing.html#returning-a-view-versus-a-copy\n",
      "  df_edge_list['sid'] = 'p' + df_edge_list['sid'].astype(str)\n",
      "C:\\Users\\49171\\AppData\\Local\\Temp\\ipykernel_14604\\992845728.py:9: SettingWithCopyWarning: \n",
      "A value is trying to be set on a copy of a slice from a DataFrame.\n",
      "Try using .loc[row_indexer,col_indexer] = value instead\n",
      "\n",
      "See the caveats in the documentation: https://pandas.pydata.org/pandas-docs/stable/user_guide/indexing.html#returning-a-view-versus-a-copy\n",
      "  df_edge_list['did'] = 'mp' + df_edge_list['did'].astype(str)\n"
     ]
    },
    {
     "data": {
      "text/html": [
       "<div>\n",
       "<style scoped>\n",
       "    .dataframe tbody tr th:only-of-type {\n",
       "        vertical-align: middle;\n",
       "    }\n",
       "\n",
       "    .dataframe tbody tr th {\n",
       "        vertical-align: top;\n",
       "    }\n",
       "\n",
       "    .dataframe thead th {\n",
       "        text-align: right;\n",
       "    }\n",
       "</style>\n",
       "<table border=\"1\" class=\"dataframe\">\n",
       "  <thead>\n",
       "    <tr style=\"text-align: right;\">\n",
       "      <th></th>\n",
       "      <th>sid</th>\n",
       "      <th>did</th>\n",
       "      <th>values</th>\n",
       "    </tr>\n",
       "  </thead>\n",
       "  <tbody>\n",
       "    <tr>\n",
       "      <th>2</th>\n",
       "      <td>p1</td>\n",
       "      <td>mp2787</td>\n",
       "      <td>2</td>\n",
       "    </tr>\n",
       "    <tr>\n",
       "      <th>31</th>\n",
       "      <td>p1</td>\n",
       "      <td>mp2570</td>\n",
       "      <td>15</td>\n",
       "    </tr>\n",
       "    <tr>\n",
       "      <th>57</th>\n",
       "      <td>p1</td>\n",
       "      <td>mp2743</td>\n",
       "      <td>7</td>\n",
       "    </tr>\n",
       "    <tr>\n",
       "      <th>59</th>\n",
       "      <td>p1</td>\n",
       "      <td>mp2969</td>\n",
       "      <td>31</td>\n",
       "    </tr>\n",
       "    <tr>\n",
       "      <th>63</th>\n",
       "      <td>p1</td>\n",
       "      <td>mp2721</td>\n",
       "      <td>17</td>\n",
       "    </tr>\n",
       "    <tr>\n",
       "      <th>...</th>\n",
       "      <td>...</td>\n",
       "      <td>...</td>\n",
       "      <td>...</td>\n",
       "    </tr>\n",
       "    <tr>\n",
       "      <th>142496</th>\n",
       "      <td>p48</td>\n",
       "      <td>mp283</td>\n",
       "      <td>1</td>\n",
       "    </tr>\n",
       "    <tr>\n",
       "      <th>142497</th>\n",
       "      <td>p48</td>\n",
       "      <td>mp410</td>\n",
       "      <td>7</td>\n",
       "    </tr>\n",
       "    <tr>\n",
       "      <th>142498</th>\n",
       "      <td>p48</td>\n",
       "      <td>mp62</td>\n",
       "      <td>4</td>\n",
       "    </tr>\n",
       "    <tr>\n",
       "      <th>142506</th>\n",
       "      <td>p48</td>\n",
       "      <td>mp185</td>\n",
       "      <td>69</td>\n",
       "    </tr>\n",
       "    <tr>\n",
       "      <th>142507</th>\n",
       "      <td>p48</td>\n",
       "      <td>mp178</td>\n",
       "      <td>5</td>\n",
       "    </tr>\n",
       "  </tbody>\n",
       "</table>\n",
       "<p>15562 rows × 3 columns</p>\n",
       "</div>"
      ],
      "text/plain": [
       "        sid     did  values\n",
       "2        p1  mp2787       2\n",
       "31       p1  mp2570      15\n",
       "57       p1  mp2743       7\n",
       "59       p1  mp2969      31\n",
       "63       p1  mp2721      17\n",
       "...     ...     ...     ...\n",
       "142496  p48   mp283       1\n",
       "142497  p48   mp410       7\n",
       "142498  p48    mp62       4\n",
       "142506  p48   mp185      69\n",
       "142507  p48   mp178       5\n",
       "\n",
       "[15562 rows x 3 columns]"
      ]
     },
     "execution_count": 4,
     "metadata": {},
     "output_type": "execute_result"
    }
   ],
   "source": [
    "df_edge_list = edge_list_from_graph(df_graph)\n",
    "df_edge_list_0_dropped = df_edge_list.drop(df_edge_list[df_edge_list.values == 0].index)\n",
    "df_edge_list_0_dropped"
   ]
  },
  {
   "cell_type": "code",
   "execution_count": 5,
   "id": "29908a6a",
   "metadata": {},
   "outputs": [],
   "source": [
    "def adj_mat_from_edge_list(df_edge_list):\n",
    "    \"\"\"Function to create adjacency matrix of nodes from the list of edges\n",
    "    \n",
    "    Args:\n",
    "        df_edge_list (dataframe): dataframe containing all edges between nodes and corresponding edge weights\n",
    "    \"\"\"\n",
    "    G = nx.MultiGraph()\n",
    "    values_list = df_edge_list.values.tolist()\n",
    "    \n",
    "    for i in range(len(values_list)):\n",
    "        G.add_edge(values_list[i][0], values_list[i][1], weight=values_list[i][2])\n",
    "        \n",
    "    adj_mat = nx.adjacency_matrix(G).A\n",
    "    \n",
    "    return G, adj_mat"
   ]
  },
  {
   "cell_type": "code",
   "execution_count": 7,
   "id": "b27ada19",
   "metadata": {
    "scrolled": true
   },
   "outputs": [
    {
     "name": "stderr",
     "output_type": "stream",
     "text": [
      "C:\\Users\\49171\\AppData\\Local\\Temp\\ipykernel_14604\\2311397839.py:13: FutureWarning: adjacency_matrix will return a scipy.sparse array instead of a matrix in Networkx 3.0.\n",
      "  adj_mat = nx.adjacency_matrix(G).A\n"
     ]
    },
    {
     "name": "stdout",
     "output_type": "stream",
     "text": [
      "[[ 0  0  0 ...  0  0  0]\n",
      " [ 0  0  0 ... 34 10 13]\n",
      " [ 0  0  0 ...  0  0  0]\n",
      " ...\n",
      " [ 0 34  0 ...  0  0  0]\n",
      " [ 0 10  0 ...  0  0  0]\n",
      " [ 0 13  0 ...  0  0  0]]\n"
     ]
    }
   ],
   "source": [
    "G, adj_mat = adj_mat_from_edge_list(df_edge_list)\n",
    "print(adj_mat)"
   ]
  },
  {
   "cell_type": "code",
   "execution_count": 8,
   "id": "35123d4f",
   "metadata": {},
   "outputs": [],
   "source": [
    "degrees = [val for (node, val) in G.degree()]"
   ]
  },
  {
   "cell_type": "code",
   "execution_count": 9,
   "id": "aa07434c",
   "metadata": {},
   "outputs": [
    {
     "data": {
      "text/plain": [
       "3017"
      ]
     },
     "execution_count": 9,
     "metadata": {},
     "output_type": "execute_result"
    }
   ],
   "source": [
    "len(degrees)"
   ]
  },
  {
   "cell_type": "code",
   "execution_count": 10,
   "id": "cc9a38ea",
   "metadata": {
    "scrolled": true
   },
   "outputs": [
    {
     "data": {
      "text/plain": [
       "(3017, 3017)"
      ]
     },
     "execution_count": 10,
     "metadata": {},
     "output_type": "execute_result"
    }
   ],
   "source": [
    "adj_mat.shape"
   ]
  },
  {
   "cell_type": "code",
   "execution_count": 11,
   "id": "0e0ad49e",
   "metadata": {
    "scrolled": false
   },
   "outputs": [
    {
     "data": {
      "text/html": [
       "<div>\n",
       "<style scoped>\n",
       "    .dataframe tbody tr th:only-of-type {\n",
       "        vertical-align: middle;\n",
       "    }\n",
       "\n",
       "    .dataframe tbody tr th {\n",
       "        vertical-align: top;\n",
       "    }\n",
       "\n",
       "    .dataframe thead th {\n",
       "        text-align: right;\n",
       "    }\n",
       "</style>\n",
       "<table border=\"1\" class=\"dataframe\">\n",
       "  <thead>\n",
       "    <tr style=\"text-align: right;\">\n",
       "      <th></th>\n",
       "      <th>nodes</th>\n",
       "    </tr>\n",
       "  </thead>\n",
       "  <tbody>\n",
       "    <tr>\n",
       "      <th>0</th>\n",
       "      <td>p1</td>\n",
       "    </tr>\n",
       "    <tr>\n",
       "      <th>1</th>\n",
       "      <td>mp382</td>\n",
       "    </tr>\n",
       "    <tr>\n",
       "      <th>2</th>\n",
       "      <td>mp2881</td>\n",
       "    </tr>\n",
       "    <tr>\n",
       "      <th>3</th>\n",
       "      <td>mp2787</td>\n",
       "    </tr>\n",
       "    <tr>\n",
       "      <th>4</th>\n",
       "      <td>mp2688</td>\n",
       "    </tr>\n",
       "    <tr>\n",
       "      <th>...</th>\n",
       "      <td>...</td>\n",
       "    </tr>\n",
       "    <tr>\n",
       "      <th>3012</th>\n",
       "      <td>p44</td>\n",
       "    </tr>\n",
       "    <tr>\n",
       "      <th>3013</th>\n",
       "      <td>p45</td>\n",
       "    </tr>\n",
       "    <tr>\n",
       "      <th>3014</th>\n",
       "      <td>p46</td>\n",
       "    </tr>\n",
       "    <tr>\n",
       "      <th>3015</th>\n",
       "      <td>p47</td>\n",
       "    </tr>\n",
       "    <tr>\n",
       "      <th>3016</th>\n",
       "      <td>p48</td>\n",
       "    </tr>\n",
       "  </tbody>\n",
       "</table>\n",
       "<p>3017 rows × 1 columns</p>\n",
       "</div>"
      ],
      "text/plain": [
       "       nodes\n",
       "0         p1\n",
       "1      mp382\n",
       "2     mp2881\n",
       "3     mp2787\n",
       "4     mp2688\n",
       "...      ...\n",
       "3012     p44\n",
       "3013     p45\n",
       "3014     p46\n",
       "3015     p47\n",
       "3016     p48\n",
       "\n",
       "[3017 rows x 1 columns]"
      ]
     },
     "execution_count": 11,
     "metadata": {},
     "output_type": "execute_result"
    }
   ],
   "source": [
    "df_cluster = pd.DataFrame(G.nodes, columns = ['nodes'])\n",
    "df_cluster"
   ]
  },
  {
   "cell_type": "code",
   "execution_count": 51,
   "id": "92aa27e2",
   "metadata": {},
   "outputs": [
    {
     "name": "stderr",
     "output_type": "stream",
     "text": [
      "C:\\Users\\49171\\AppData\\Local\\Programs\\Python\\Python39\\lib\\site-packages\\sklearn\\manifold\\_spectral_embedding.py:260: UserWarning: Graph is not fully connected, spectral embedding may not work as expected.\n",
      "  warnings.warn(\n"
     ]
    },
    {
     "data": {
      "text/html": [
       "<div>\n",
       "<style scoped>\n",
       "    .dataframe tbody tr th:only-of-type {\n",
       "        vertical-align: middle;\n",
       "    }\n",
       "\n",
       "    .dataframe tbody tr th {\n",
       "        vertical-align: top;\n",
       "    }\n",
       "\n",
       "    .dataframe thead th {\n",
       "        text-align: right;\n",
       "    }\n",
       "</style>\n",
       "<table border=\"1\" class=\"dataframe\">\n",
       "  <thead>\n",
       "    <tr style=\"text-align: right;\">\n",
       "      <th></th>\n",
       "      <th>nodes</th>\n",
       "      <th>cluster</th>\n",
       "      <th>label</th>\n",
       "    </tr>\n",
       "  </thead>\n",
       "  <tbody>\n",
       "    <tr>\n",
       "      <th>0</th>\n",
       "      <td>p1</td>\n",
       "      <td>1</td>\n",
       "      <td>p_c</td>\n",
       "    </tr>\n",
       "    <tr>\n",
       "      <th>1</th>\n",
       "      <td>mp382</td>\n",
       "      <td>2</td>\n",
       "      <td>mp</td>\n",
       "    </tr>\n",
       "    <tr>\n",
       "      <th>2</th>\n",
       "      <td>mp2881</td>\n",
       "      <td>3</td>\n",
       "      <td>mp</td>\n",
       "    </tr>\n",
       "    <tr>\n",
       "      <th>3</th>\n",
       "      <td>mp2787</td>\n",
       "      <td>2</td>\n",
       "      <td>mp</td>\n",
       "    </tr>\n",
       "    <tr>\n",
       "      <th>4</th>\n",
       "      <td>mp2688</td>\n",
       "      <td>1</td>\n",
       "      <td>mp</td>\n",
       "    </tr>\n",
       "    <tr>\n",
       "      <th>...</th>\n",
       "      <td>...</td>\n",
       "      <td>...</td>\n",
       "      <td>...</td>\n",
       "    </tr>\n",
       "    <tr>\n",
       "      <th>3012</th>\n",
       "      <td>p44</td>\n",
       "      <td>2</td>\n",
       "      <td>p_uc</td>\n",
       "    </tr>\n",
       "    <tr>\n",
       "      <th>3013</th>\n",
       "      <td>p45</td>\n",
       "      <td>2</td>\n",
       "      <td>p_uc</td>\n",
       "    </tr>\n",
       "    <tr>\n",
       "      <th>3014</th>\n",
       "      <td>p46</td>\n",
       "      <td>2</td>\n",
       "      <td>p_uc</td>\n",
       "    </tr>\n",
       "    <tr>\n",
       "      <th>3015</th>\n",
       "      <td>p47</td>\n",
       "      <td>0</td>\n",
       "      <td>p_uc</td>\n",
       "    </tr>\n",
       "    <tr>\n",
       "      <th>3016</th>\n",
       "      <td>p48</td>\n",
       "      <td>2</td>\n",
       "      <td>p_uc</td>\n",
       "    </tr>\n",
       "  </tbody>\n",
       "</table>\n",
       "<p>3017 rows × 3 columns</p>\n",
       "</div>"
      ],
      "text/plain": [
       "       nodes  cluster label\n",
       "0         p1        1   p_c\n",
       "1      mp382        2    mp\n",
       "2     mp2881        3    mp\n",
       "3     mp2787        2    mp\n",
       "4     mp2688        1    mp\n",
       "...      ...      ...   ...\n",
       "3012     p44        2  p_uc\n",
       "3013     p45        2  p_uc\n",
       "3014     p46        2  p_uc\n",
       "3015     p47        0  p_uc\n",
       "3016     p48        2  p_uc\n",
       "\n",
       "[3017 rows x 3 columns]"
      ]
     },
     "execution_count": 51,
     "metadata": {},
     "output_type": "execute_result"
    }
   ],
   "source": [
    "np.set_printoptions(threshold=np.inf)\n",
    "df_cluster['cluster'] = SpectralClustering(n_clusters = 4, affinity='precomputed').fit_predict(adj_mat)\n",
    "df_cluster\n"
   ]
  },
  {
   "cell_type": "code",
   "execution_count": 52,
   "id": "7e5ee4d0",
   "metadata": {},
   "outputs": [
    {
     "data": {
      "text/html": [
       "<div>\n",
       "<style scoped>\n",
       "    .dataframe tbody tr th:only-of-type {\n",
       "        vertical-align: middle;\n",
       "    }\n",
       "\n",
       "    .dataframe tbody tr th {\n",
       "        vertical-align: top;\n",
       "    }\n",
       "\n",
       "    .dataframe thead th {\n",
       "        text-align: right;\n",
       "    }\n",
       "</style>\n",
       "<table border=\"1\" class=\"dataframe\">\n",
       "  <thead>\n",
       "    <tr style=\"text-align: right;\">\n",
       "      <th></th>\n",
       "      <th>nodes</th>\n",
       "      <th>cluster</th>\n",
       "      <th>label</th>\n",
       "    </tr>\n",
       "  </thead>\n",
       "  <tbody>\n",
       "    <tr>\n",
       "      <th>0</th>\n",
       "      <td>p1</td>\n",
       "      <td>1</td>\n",
       "      <td>p_c</td>\n",
       "    </tr>\n",
       "    <tr>\n",
       "      <th>1</th>\n",
       "      <td>mp382</td>\n",
       "      <td>2</td>\n",
       "      <td>mp</td>\n",
       "    </tr>\n",
       "    <tr>\n",
       "      <th>2</th>\n",
       "      <td>mp2881</td>\n",
       "      <td>3</td>\n",
       "      <td>mp</td>\n",
       "    </tr>\n",
       "    <tr>\n",
       "      <th>3</th>\n",
       "      <td>mp2787</td>\n",
       "      <td>2</td>\n",
       "      <td>mp</td>\n",
       "    </tr>\n",
       "    <tr>\n",
       "      <th>4</th>\n",
       "      <td>mp2688</td>\n",
       "      <td>1</td>\n",
       "      <td>mp</td>\n",
       "    </tr>\n",
       "    <tr>\n",
       "      <th>...</th>\n",
       "      <td>...</td>\n",
       "      <td>...</td>\n",
       "      <td>...</td>\n",
       "    </tr>\n",
       "    <tr>\n",
       "      <th>3012</th>\n",
       "      <td>p44</td>\n",
       "      <td>2</td>\n",
       "      <td>p_uc</td>\n",
       "    </tr>\n",
       "    <tr>\n",
       "      <th>3013</th>\n",
       "      <td>p45</td>\n",
       "      <td>2</td>\n",
       "      <td>p_uc</td>\n",
       "    </tr>\n",
       "    <tr>\n",
       "      <th>3014</th>\n",
       "      <td>p46</td>\n",
       "      <td>2</td>\n",
       "      <td>p_uc</td>\n",
       "    </tr>\n",
       "    <tr>\n",
       "      <th>3015</th>\n",
       "      <td>p47</td>\n",
       "      <td>0</td>\n",
       "      <td>p_uc</td>\n",
       "    </tr>\n",
       "    <tr>\n",
       "      <th>3016</th>\n",
       "      <td>p48</td>\n",
       "      <td>2</td>\n",
       "      <td>p_uc</td>\n",
       "    </tr>\n",
       "  </tbody>\n",
       "</table>\n",
       "<p>3017 rows × 3 columns</p>\n",
       "</div>"
      ],
      "text/plain": [
       "       nodes  cluster label\n",
       "0         p1        1   p_c\n",
       "1      mp382        2    mp\n",
       "2     mp2881        3    mp\n",
       "3     mp2787        2    mp\n",
       "4     mp2688        1    mp\n",
       "...      ...      ...   ...\n",
       "3012     p44        2  p_uc\n",
       "3013     p45        2  p_uc\n",
       "3014     p46        2  p_uc\n",
       "3015     p47        0  p_uc\n",
       "3016     p48        2  p_uc\n",
       "\n",
       "[3017 rows x 3 columns]"
      ]
     },
     "execution_count": 52,
     "metadata": {},
     "output_type": "execute_result"
    }
   ],
   "source": [
    "df_cluster['label'] = ['mp' if 'm' in x else 'p' for x in df_cluster['nodes']]\n",
    "\n",
    "for index, row in df_cluster[~df_cluster.nodes.str.contains('m')].iterrows():\n",
    "    \n",
    "    p = row.nodes.split(\"p\")[1]\n",
    "    \n",
    "    if int(p) < 18:\n",
    "        df_cluster.at[index, 'label'] = 'p_c'\n",
    "        \n",
    "    else:\n",
    "        if int(p) < 29:\n",
    "            df_cluster.at[index, 'label']  = 'p_cd'\n",
    "            \n",
    "        else:\n",
    "            df_cluster.at[index, 'label']  = 'p_uc'\n",
    "            \n",
    "df_cluster\n",
    "        \n",
    "        "
   ]
  },
  {
   "cell_type": "code",
   "execution_count": 53,
   "id": "6c5fcf43",
   "metadata": {},
   "outputs": [],
   "source": [
    "cluster_p_c = df_cluster[df_cluster['label'] == 'p_c']\n",
    "cluster_p_cd = df_cluster[df_cluster['label'] == 'p_cd']\n",
    "cluster_p_uc = df_cluster[df_cluster['label'] == 'p_uc']"
   ]
  },
  {
   "cell_type": "code",
   "execution_count": 54,
   "id": "9cc21540",
   "metadata": {},
   "outputs": [],
   "source": [
    "cluster_p = df_cluster[df_cluster['label'] == 'p']\n",
    "cluster_mp = df_cluster[df_cluster['label'] == 'mp']"
   ]
  },
  {
   "cell_type": "code",
   "execution_count": 55,
   "id": "42bc22a8",
   "metadata": {},
   "outputs": [],
   "source": [
    "cluster_0 = df_cluster[df_cluster['cluster'] == 0]\n",
    "cluster_1 = df_cluster[df_cluster['cluster'] == 1]\n",
    "cluster_2 = df_cluster[df_cluster['cluster'] == 2]\n",
    "cluster_3 = df_cluster[df_cluster['cluster'] == 3]"
   ]
  },
  {
   "cell_type": "code",
   "execution_count": 56,
   "id": "7aa52f7d",
   "metadata": {},
   "outputs": [
    {
     "name": "stdout",
     "output_type": "stream",
     "text": [
      "['mp' 'p_uc'] (390, 3)\n",
      "['p_c' 'mp' 'p_cd' 'p_uc'] (775, 3)\n",
      "['mp' 'p_cd' 'p_uc'] (1446, 3)\n",
      "['mp' 'p_c' 'p_cd'] (406, 3)\n"
     ]
    }
   ],
   "source": [
    "print(cluster_0.label.unique(), cluster_0.shape)\n",
    "print(cluster_1.label.unique(), cluster_1.shape)\n",
    "print(cluster_2.label.unique(), cluster_2.shape)\n",
    "print(cluster_3.label.unique(), cluster_3.shape)"
   ]
  },
  {
   "cell_type": "code",
   "execution_count": 57,
   "id": "5f6240d1",
   "metadata": {
    "scrolled": true
   },
   "outputs": [],
   "source": [
    "cluster_0_c = cluster_0[cluster_0['label'] == 'p_c']\n",
    "cluster_0_cd = cluster_0[cluster_0['label'] == 'p_cd']\n",
    "cluster_0_uc = cluster_0[cluster_0['label'] == 'p_uc']\n",
    "cluster_0_mp = cluster_0[cluster_0['label'] == 'mp']\n",
    "\n",
    "cluster_1_c = cluster_1[cluster_1['label'] == 'p_c']\n",
    "cluster_1_cd = cluster_1[cluster_1['label'] == 'p_cd']\n",
    "cluster_1_uc = cluster_1[cluster_1['label'] == 'p_uc']\n",
    "cluster_1_mp = cluster_1[cluster_1['label'] == 'mp']\n",
    "\n",
    "cluster_2_c = cluster_2[cluster_2['label'] == 'p_c']\n",
    "cluster_2_cd = cluster_2[cluster_2['label'] == 'p_cd']\n",
    "cluster_2_uc = cluster_2[cluster_2['label'] == 'p_uc']\n",
    "cluster_2_mp = cluster_2[cluster_2['label'] == 'mp']\n",
    "\n",
    "cluster_3_c = cluster_3[cluster_3['label'] == 'p_c']\n",
    "cluster_3_cd = cluster_3[cluster_3['label'] == 'p_cd']\n",
    "cluster_3_uc = cluster_3[cluster_3['label'] == 'p_uc']\n",
    "cluster_3_mp = cluster_3[cluster_3['label'] == 'mp']"
   ]
  },
  {
   "cell_type": "code",
   "execution_count": 58,
   "id": "a857de11",
   "metadata": {},
   "outputs": [
    {
     "name": "stdout",
     "output_type": "stream",
     "text": [
      "[] (0, 3)\n",
      "[] (0, 3)\n",
      "['p_uc'] (2, 3)\n",
      "['mp'] (388, 3)\n"
     ]
    }
   ],
   "source": [
    "print(cluster_0_c.label.unique(), cluster_0_c.shape)\n",
    "print(cluster_0_cd.label.unique(), cluster_0_cd.shape)\n",
    "print(cluster_0_uc.label.unique(), cluster_0_uc.shape)\n",
    "print(cluster_0_mp.label.unique(), cluster_0_mp.shape)"
   ]
  },
  {
   "cell_type": "code",
   "execution_count": 59,
   "id": "a5c4080e",
   "metadata": {},
   "outputs": [
    {
     "name": "stdout",
     "output_type": "stream",
     "text": [
      "['p_c'] (16, 3)\n",
      "['p_cd'] (4, 3)\n",
      "['p_uc'] (2, 3)\n",
      "['mp'] (753, 3)\n"
     ]
    }
   ],
   "source": [
    "print(cluster_1_c.label.unique(), cluster_1_c.shape)\n",
    "print(cluster_1_cd.label.unique(), cluster_1_cd.shape)\n",
    "print(cluster_1_uc.label.unique(), cluster_1_uc.shape)\n",
    "print(cluster_1_mp.label.unique(), cluster_1_mp.shape)"
   ]
  },
  {
   "cell_type": "code",
   "execution_count": 60,
   "id": "db5c55a9",
   "metadata": {},
   "outputs": [
    {
     "name": "stdout",
     "output_type": "stream",
     "text": [
      "[] (0, 3)\n",
      "['p_cd'] (3, 3)\n",
      "['p_uc'] (16, 3)\n",
      "['mp'] (1427, 3)\n"
     ]
    }
   ],
   "source": [
    "print(cluster_2_c.label.unique(), cluster_2_c.shape)\n",
    "print(cluster_2_cd.label.unique(), cluster_2_cd.shape)\n",
    "print(cluster_2_uc.label.unique(), cluster_2_uc.shape)\n",
    "print(cluster_2_mp.label.unique(), cluster_2_mp.shape)"
   ]
  },
  {
   "cell_type": "code",
   "execution_count": 61,
   "id": "d66cefe7",
   "metadata": {},
   "outputs": [
    {
     "name": "stdout",
     "output_type": "stream",
     "text": [
      "['p_c'] (1, 3)\n",
      "['p_cd'] (4, 3)\n",
      "[] (0, 3)\n",
      "['mp'] (401, 3)\n"
     ]
    }
   ],
   "source": [
    "print(cluster_3_c.label.unique(), cluster_3_c.shape)\n",
    "print(cluster_3_cd.label.unique(), cluster_3_cd.shape)\n",
    "print(cluster_3_uc.label.unique(), cluster_3_uc.shape)\n",
    "print(cluster_3_mp.label.unique(), cluster_3_mp.shape)"
   ]
  },
  {
   "cell_type": "code",
   "execution_count": null,
   "id": "53a52906",
   "metadata": {},
   "outputs": [],
   "source": []
  },
  {
   "cell_type": "code",
   "execution_count": null,
   "id": "21336e88",
   "metadata": {
    "scrolled": true
   },
   "outputs": [],
   "source": [
    "plt.rcParams[\"figure.figsize\"] = (20,20)\n",
    "pos = nx.spring_layout(G)\n",
    "nx.draw_networkx_labels(G, pos)\n",
    "nx.draw_networkx_edges(G, pos)\n",
    "plt.show()"
   ]
  },
  {
   "cell_type": "code",
   "execution_count": null,
   "id": "f8e815a8",
   "metadata": {},
   "outputs": [],
   "source": []
  },
  {
   "cell_type": "code",
   "execution_count": null,
   "id": "6747f1c4",
   "metadata": {},
   "outputs": [],
   "source": []
  }
 ],
 "metadata": {
  "kernelspec": {
   "display_name": "Python 3",
   "language": "python",
   "name": "python3"
  },
  "language_info": {
   "codemirror_mode": {
    "name": "ipython",
    "version": 3
   },
   "file_extension": ".py",
   "mimetype": "text/x-python",
   "name": "python",
   "nbconvert_exporter": "python",
   "pygments_lexer": "ipython3",
   "version": "3.10.7"
  }
 },
 "nbformat": 4,
 "nbformat_minor": 5
}
