{
 "cells": [
  {
   "cell_type": "code",
   "execution_count": null,
   "id": "5b327cd1",
   "metadata": {},
   "outputs": [],
   "source": [
    "import pandas as pd \n",
    "import numpy as np\n",
    "import networkx as nx\n",
    "import sys\n",
    "\n",
    "from sklearn.preprocessing import StandardScaler, normalize\n",
    "from sklearn.decomposition import PCA\n",
    "from sklearn.cluster import KMeans\n",
    "from sklearn.cluster import OPTICS\n",
    "from sklearn.cluster import AgglomerativeClustering\n",
    "from sklearn.cluster import SpectralClustering\n",
    "\n",
    "import matplotlib.pyplot as plt\n",
    "import seaborn as sns\n",
    "from matplotlib import rcParams, cycler\n",
    "from sklearn.metrics import silhouette_samples, silhouette_score"
   ]
  },
  {
   "cell_type": "code",
   "execution_count": 2,
   "id": "709fd681",
   "metadata": {
    "scrolled": true
   },
   "outputs": [],
   "source": [
    "df_csv = pd.read_csv(\"mp_samples.csv\")\n",
    "df_csv_data = df_csv.iloc[:, 2:2971]\n",
    "df_graph = pd.read_csv(\"graph.csv\")"
   ]
  },
  {
   "cell_type": "code",
   "execution_count": null,
   "id": "cfe4ee84",
   "metadata": {},
   "outputs": [],
   "source": [
    "def edge_list_from_graph(df_graph):\n",
    "    \"\"\"Function to extract edge list from the whole graph\n",
    "    \n",
    "    Args: \n",
    "        df_graph (dataframe): dataframe containing the whole graph with all the edges in rows\n",
    "    \"\"\"\n",
    "    df_edge_list = df_graph[['sid', 'did', 'values']]\n",
    "    df_edge_list['sid'] = 'p' + df_edge_list['sid'].astype(str)\n",
    "    df_edge_list['did'] = 'mp' + df_edge_list['did'].astype(str)\n",
    "    \n",
    "    return df_edge_list"
   ]
  },
  {
   "cell_type": "code",
   "execution_count": null,
   "id": "db738633",
   "metadata": {},
   "outputs": [],
   "source": [
    "df_edge_list = edge_list_from_graph(df_graph)\n",
    "df_edge_list_0_dropped = df_edge_list.drop(df_edge_list[df_edge_list.values == 0].index)\n",
    "df_edge_list_0_dropped"
   ]
  },
  {
   "cell_type": "code",
   "execution_count": null,
   "id": "29908a6a",
   "metadata": {},
   "outputs": [],
   "source": [
    "def adj_mat_from_edge_list(df_edge_list):\n",
    "    \"\"\"Function to create adjacency matrix of nodes from the list of edges\n",
    "    \n",
    "    Args:\n",
    "        df_edge_list (dataframe): dataframe containing all edges between nodes and corresponding edge weights\n",
    "    \"\"\"\n",
    "    G = nx.MultiGraph()\n",
    "    values_list = df_edge_list.values.tolist()\n",
    "    \n",
    "    for i in range(len(values_list)):\n",
    "        G.add_edge(values_list[i][0], values_list[i][1], weight=values_list[i][2])\n",
    "        \n",
    "    adj_mat = nx.adjacency_matrix(G).A\n",
    "    \n",
    "    return G, adj_mat"
   ]
  },
  {
   "cell_type": "code",
   "execution_count": null,
   "id": "b27ada19",
   "metadata": {
    "scrolled": true
   },
   "outputs": [],
   "source": [
    "G, adj_mat = adj_mat_from_edge_list(df_edge_list)\n",
    "print(adj_mat)"
   ]
  },
  {
   "cell_type": "code",
   "execution_count": null,
   "id": "35123d4f",
   "metadata": {},
   "outputs": [],
   "source": [
    "degrees = [val for (node, val) in G.degree()]"
   ]
  },
  {
   "cell_type": "code",
   "execution_count": null,
   "id": "aa07434c",
   "metadata": {},
   "outputs": [],
   "source": [
    "len(degrees)"
   ]
  },
  {
   "cell_type": "code",
   "execution_count": null,
   "id": "cc9a38ea",
   "metadata": {
    "scrolled": true
   },
   "outputs": [],
   "source": [
    "adj_mat.shape"
   ]
  },
  {
   "cell_type": "code",
   "execution_count": null,
   "id": "0e0ad49e",
   "metadata": {
    "scrolled": false
   },
   "outputs": [],
   "source": [
    "df_cluster = pd.DataFrame(G.nodes, columns = ['nodes'])\n",
    "df_cluster"
   ]
  },
  {
   "cell_type": "code",
   "execution_count": null,
   "id": "92aa27e2",
   "metadata": {},
   "outputs": [],
   "source": [
    "np.set_printoptions(threshold=np.inf)\n",
    "df_cluster['cluster'] = SpectralClustering(n_clusters = 4, affinity='precomputed').fit_predict(adj_mat)\n",
    "df_cluster\n"
   ]
  },
  {
   "cell_type": "code",
   "execution_count": null,
   "id": "7e5ee4d0",
   "metadata": {},
   "outputs": [],
   "source": [
    "df_cluster['label'] = ['mp' if 'm' in x else 'p' for x in df_cluster['nodes']]\n",
    "\n",
    "for index, row in df_cluster[~df_cluster.nodes.str.contains('m')].iterrows():\n",
    "    \n",
    "    p = row.nodes.split(\"p\")[1]\n",
    "    \n",
    "    if int(p) < 18:\n",
    "        df_cluster.at[index, 'label'] = 'p_c'\n",
    "        \n",
    "    else:\n",
    "        if int(p) < 29:\n",
    "            df_cluster.at[index, 'label']  = 'p_cd'\n",
    "            \n",
    "        else:\n",
    "            df_cluster.at[index, 'label']  = 'p_uc'\n",
    "            \n",
    "df_cluster\n",
    "        \n",
    "        "
   ]
  },
  {
   "cell_type": "code",
   "execution_count": null,
   "id": "6c5fcf43",
   "metadata": {},
   "outputs": [],
   "source": [
    "cluster_p_c = df_cluster[df_cluster['label'] == 'p_c']\n",
    "cluster_p_cd = df_cluster[df_cluster['label'] == 'p_cd']\n",
    "cluster_p_uc = df_cluster[df_cluster['label'] == 'p_uc']"
   ]
  },
  {
   "cell_type": "code",
   "execution_count": null,
   "id": "9cc21540",
   "metadata": {},
   "outputs": [],
   "source": [
    "cluster_p = df_cluster[df_cluster['label'] == 'p']\n",
    "cluster_mp = df_cluster[df_cluster['label'] == 'mp']"
   ]
  },
  {
   "cell_type": "code",
   "execution_count": null,
   "id": "42bc22a8",
   "metadata": {},
   "outputs": [],
   "source": [
    "cluster_0 = df_cluster[df_cluster['cluster'] == 0]\n",
    "cluster_1 = df_cluster[df_cluster['cluster'] == 1]\n",
    "cluster_2 = df_cluster[df_cluster['cluster'] == 2]\n",
    "cluster_3 = df_cluster[df_cluster['cluster'] == 3]"
   ]
  },
  {
   "cell_type": "code",
   "execution_count": null,
   "id": "7aa52f7d",
   "metadata": {},
   "outputs": [],
   "source": [
    "print(cluster_0.label.unique(), cluster_0.shape)\n",
    "print(cluster_1.label.unique(), cluster_1.shape)\n",
    "print(cluster_2.label.unique(), cluster_2.shape)\n",
    "print(cluster_3.label.unique(), cluster_3.shape)"
   ]
  },
  {
   "cell_type": "code",
   "execution_count": null,
   "id": "5f6240d1",
   "metadata": {
    "scrolled": true
   },
   "outputs": [],
   "source": [
    "cluster_0_c = cluster_0[cluster_0['label'] == 'p_c']\n",
    "cluster_0_cd = cluster_0[cluster_0['label'] == 'p_cd']\n",
    "cluster_0_uc = cluster_0[cluster_0['label'] == 'p_uc']\n",
    "cluster_0_mp = cluster_0[cluster_0['label'] == 'mp']\n",
    "\n",
    "cluster_1_c = cluster_1[cluster_1['label'] == 'p_c']\n",
    "cluster_1_cd = cluster_1[cluster_1['label'] == 'p_cd']\n",
    "cluster_1_uc = cluster_1[cluster_1['label'] == 'p_uc']\n",
    "cluster_1_mp = cluster_1[cluster_1['label'] == 'mp']\n",
    "\n",
    "cluster_2_c = cluster_2[cluster_2['label'] == 'p_c']\n",
    "cluster_2_cd = cluster_2[cluster_2['label'] == 'p_cd']\n",
    "cluster_2_uc = cluster_2[cluster_2['label'] == 'p_uc']\n",
    "cluster_2_mp = cluster_2[cluster_2['label'] == 'mp']\n",
    "\n",
    "cluster_3_c = cluster_3[cluster_3['label'] == 'p_c']\n",
    "cluster_3_cd = cluster_3[cluster_3['label'] == 'p_cd']\n",
    "cluster_3_uc = cluster_3[cluster_3['label'] == 'p_uc']\n",
    "cluster_3_mp = cluster_3[cluster_3['label'] == 'mp']"
   ]
  },
  {
   "cell_type": "code",
   "execution_count": null,
   "id": "a857de11",
   "metadata": {},
   "outputs": [],
   "source": [
    "print(cluster_0_c.label.unique(), cluster_0_c.shape)\n",
    "print(cluster_0_cd.label.unique(), cluster_0_cd.shape)\n",
    "print(cluster_0_uc.label.unique(), cluster_0_uc.shape)\n",
    "print(cluster_0_mp.label.unique(), cluster_0_mp.shape)"
   ]
  },
  {
   "cell_type": "code",
   "execution_count": null,
   "id": "a5c4080e",
   "metadata": {},
   "outputs": [],
   "source": [
    "print(cluster_1_c.label.unique(), cluster_1_c.shape)\n",
    "print(cluster_1_cd.label.unique(), cluster_1_cd.shape)\n",
    "print(cluster_1_uc.label.unique(), cluster_1_uc.shape)\n",
    "print(cluster_1_mp.label.unique(), cluster_1_mp.shape)"
   ]
  },
  {
   "cell_type": "code",
   "execution_count": null,
   "id": "db5c55a9",
   "metadata": {},
   "outputs": [],
   "source": [
    "print(cluster_2_c.label.unique(), cluster_2_c.shape)\n",
    "print(cluster_2_cd.label.unique(), cluster_2_cd.shape)\n",
    "print(cluster_2_uc.label.unique(), cluster_2_uc.shape)\n",
    "print(cluster_2_mp.label.unique(), cluster_2_mp.shape)"
   ]
  },
  {
   "cell_type": "code",
   "execution_count": null,
   "id": "d66cefe7",
   "metadata": {},
   "outputs": [],
   "source": [
    "print(cluster_3_c.label.unique(), cluster_3_c.shape)\n",
    "print(cluster_3_cd.label.unique(), cluster_3_cd.shape)\n",
    "print(cluster_3_uc.label.unique(), cluster_3_uc.shape)\n",
    "print(cluster_3_mp.label.unique(), cluster_3_mp.shape)"
   ]
  },
  {
   "cell_type": "code",
   "execution_count": null,
   "id": "53a52906",
   "metadata": {},
   "outputs": [],
   "source": []
  },
  {
   "cell_type": "code",
   "execution_count": null,
   "id": "21336e88",
   "metadata": {
    "scrolled": true
   },
   "outputs": [],
   "source": [
    "plt.rcParams[\"figure.figsize\"] = (20,20)\n",
    "pos = nx.spring_layout(G)\n",
    "nx.draw_networkx_labels(G, pos)\n",
    "nx.draw_networkx_edges(G, pos)\n",
    "plt.show()"
   ]
  },
  {
   "cell_type": "code",
   "execution_count": null,
   "id": "f8e815a8",
   "metadata": {},
   "outputs": [],
   "source": []
  },
  {
   "cell_type": "code",
   "execution_count": null,
   "id": "6747f1c4",
   "metadata": {},
   "outputs": [],
   "source": []
  }
 ],
 "metadata": {
  "kernelspec": {
   "display_name": "Python 3",
   "language": "python",
   "name": "python3"
  },
  "language_info": {
   "codemirror_mode": {
    "name": "ipython",
    "version": 3
   },
   "file_extension": ".py",
   "mimetype": "text/x-python",
   "name": "python",
   "nbconvert_exporter": "python",
   "pygments_lexer": "ipython3",
   "version": "3.10.7"
  }
 },
 "nbformat": 4,
 "nbformat_minor": 5
}
