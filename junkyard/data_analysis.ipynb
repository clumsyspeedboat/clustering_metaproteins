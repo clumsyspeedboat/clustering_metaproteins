{
 "cells": [
  {
   "cell_type": "code",
   "execution_count": null,
   "id": "d11dc7fa",
   "metadata": {},
   "outputs": [],
   "source": [
    "pip install networkx"
   ]
  },
  {
   "cell_type": "code",
   "execution_count": 1,
   "id": "395e0b15",
   "metadata": {
    "scrolled": true
   },
   "outputs": [],
   "source": [
    "import pandas as pd \n",
    "import numpy as np\n",
    "import networkx as nx\n",
    "import sys\n",
    "from sklearn.cluster import SpectralClustering\n",
    "import matplotlib.pyplot as plt"
   ]
  },
  {
   "cell_type": "code",
   "execution_count": null,
   "id": "65efa2f4",
   "metadata": {},
   "outputs": [],
   "source": [
    "def abundance_to_edge_list(df):\n",
    "    \n",
    "    df_list = []\n",
    "    for index, rows in df_new.iterrows():\n",
    "        df_list.append\n",
    "        \n",
    "    stacked_df_values = df_new.stack()\n",
    "    final_df = pd.DataFrame(stacked_df_values, columns=[\"destination\",\"values\"])\n",
    "    final_df = final_df.reset_index()\n",
    "    final_df = final_df.rename(columns = {\"level_0\":\"p_id\", \"level_1\":\"mp_id\"})\n",
    "    final_df[\"p_id\"] = final_df[\"p_id\"] +1"
   ]
  },
  {
   "cell_type": "code",
   "execution_count": null,
   "id": "4ddd837b",
   "metadata": {},
   "outputs": [],
   "source": [
    "df_sample = pd.read_csv('mp_samples.csv')\n",
    "df_sample.head()"
   ]
  },
  {
   "cell_type": "code",
   "execution_count": null,
   "id": "eace6e5b",
   "metadata": {},
   "outputs": [],
   "source": [
    "df_new = df_sample.iloc[:, 2:]\n",
    "df_list = []\n",
    "for index, rows in df_new.iterrows():\n",
    "    df_list.append"
   ]
  },
  {
   "cell_type": "code",
   "execution_count": null,
   "id": "c2d68e00",
   "metadata": {},
   "outputs": [],
   "source": [
    "stacked_df_values = df_new.stack()\n",
    "print(type(stacked_df_values))"
   ]
  },
  {
   "cell_type": "code",
   "execution_count": null,
   "id": "ce75b84c",
   "metadata": {},
   "outputs": [],
   "source": [
    "final_df = pd.DataFrame(stacked_df_values, columns=[\"destination\",\"values\"])\n",
    "final_df.index"
   ]
  },
  {
   "cell_type": "code",
   "execution_count": null,
   "id": "42c7673b",
   "metadata": {},
   "outputs": [],
   "source": [
    "final_df = final_df.reset_index()"
   ]
  },
  {
   "cell_type": "code",
   "execution_count": null,
   "id": "e2387b17",
   "metadata": {},
   "outputs": [],
   "source": [
    "final_df = final_df.rename(columns = {\"level_0\":\"p_id\", \"level_1\":\"mp_id\"})"
   ]
  },
  {
   "cell_type": "code",
   "execution_count": null,
   "id": "468a750b",
   "metadata": {},
   "outputs": [],
   "source": [
    "final_df"
   ]
  },
  {
   "cell_type": "code",
   "execution_count": null,
   "id": "34857d41",
   "metadata": {},
   "outputs": [],
   "source": [
    "final_df[\"p_id\"] = final_df[\"p_id\"] +1"
   ]
  },
  {
   "cell_type": "code",
   "execution_count": null,
   "id": "ae0f0a6a",
   "metadata": {},
   "outputs": [],
   "source": [
    "final_df"
   ]
  },
  {
   "cell_type": "code",
   "execution_count": null,
   "id": "e8ca21d1",
   "metadata": {},
   "outputs": [],
   "source": []
  },
  {
   "cell_type": "code",
   "execution_count": null,
   "id": "5487aef4",
   "metadata": {},
   "outputs": [],
   "source": [
    "df_csv = pd.read_csv(\"mp_samples.csv\")\n",
    "df_csv.head()"
   ]
  },
  {
   "cell_type": "code",
   "execution_count": null,
   "id": "c2ef12c7",
   "metadata": {},
   "outputs": [],
   "source": [
    "df_csv_data = df_csv.iloc[:, 2:2971]\n",
    "df_csv_data.head()"
   ]
  },
  {
   "cell_type": "code",
   "execution_count": 2,
   "id": "189f4cf1",
   "metadata": {},
   "outputs": [
    {
     "data": {
      "text/html": [
       "<div>\n",
       "<style scoped>\n",
       "    .dataframe tbody tr th:only-of-type {\n",
       "        vertical-align: middle;\n",
       "    }\n",
       "\n",
       "    .dataframe tbody tr th {\n",
       "        vertical-align: top;\n",
       "    }\n",
       "\n",
       "    .dataframe thead th {\n",
       "        text-align: right;\n",
       "    }\n",
       "</style>\n",
       "<table border=\"1\" class=\"dataframe\">\n",
       "  <thead>\n",
       "    <tr style=\"text-align: right;\">\n",
       "      <th></th>\n",
       "      <th>Unnamed: 0</th>\n",
       "      <th>sid</th>\n",
       "      <th>values</th>\n",
       "      <th>class</th>\n",
       "      <th>did</th>\n",
       "      <th>family</th>\n",
       "      <th>order</th>\n",
       "      <th>genus</th>\n",
       "      <th>phylum</th>\n",
       "      <th>kingdom</th>\n",
       "      <th>metaprotein</th>\n",
       "      <th>species</th>\n",
       "      <th>superkingdom</th>\n",
       "    </tr>\n",
       "  </thead>\n",
       "  <tbody>\n",
       "    <tr>\n",
       "      <th>0</th>\n",
       "      <td>0</td>\n",
       "      <td>1</td>\n",
       "      <td>0</td>\n",
       "      <td>Mammalia</td>\n",
       "      <td>382</td>\n",
       "      <td>Hominidae</td>\n",
       "      <td>Primates</td>\n",
       "      <td>Homo</td>\n",
       "      <td>Chordata</td>\n",
       "      <td>Metazoa</td>\n",
       "      <td>CATG_HUMAN Cathepsin G OS=Homo sapiens GN=CTSG...</td>\n",
       "      <td>Homo sapiens</td>\n",
       "      <td>Eukaryota</td>\n",
       "    </tr>\n",
       "    <tr>\n",
       "      <th>1</th>\n",
       "      <td>1</td>\n",
       "      <td>1</td>\n",
       "      <td>0</td>\n",
       "      <td>Mammalia</td>\n",
       "      <td>2881</td>\n",
       "      <td>Hominidae</td>\n",
       "      <td>Primates</td>\n",
       "      <td>Homo</td>\n",
       "      <td>Chordata</td>\n",
       "      <td>Metazoa</td>\n",
       "      <td>RP1L1_HUMAN Retinitis pigmentosa 1-like 1 prot...</td>\n",
       "      <td>Homo sapiens</td>\n",
       "      <td>Eukaryota</td>\n",
       "    </tr>\n",
       "    <tr>\n",
       "      <th>2</th>\n",
       "      <td>2</td>\n",
       "      <td>1</td>\n",
       "      <td>2</td>\n",
       "      <td>unassigned</td>\n",
       "      <td>2787</td>\n",
       "      <td>unassigned</td>\n",
       "      <td>unassigned</td>\n",
       "      <td>unassigned</td>\n",
       "      <td>Chordata</td>\n",
       "      <td>Metazoa</td>\n",
       "      <td>TTHY_PANTR Transthyretin OS=Pan troglodytes GN...</td>\n",
       "      <td>unassigned</td>\n",
       "      <td>Eukaryota</td>\n",
       "    </tr>\n",
       "    <tr>\n",
       "      <th>3</th>\n",
       "      <td>3</td>\n",
       "      <td>1</td>\n",
       "      <td>0</td>\n",
       "      <td>Actinobacteria</td>\n",
       "      <td>2688</td>\n",
       "      <td>Bifidobacteriaceae</td>\n",
       "      <td>Bifidobacteriales</td>\n",
       "      <td>Bifidobacterium</td>\n",
       "      <td>Actinobacteria</td>\n",
       "      <td>unassigned</td>\n",
       "      <td>TIG_BIFAA Trigger factor OS=Bifidobacterium ad...</td>\n",
       "      <td>unassigned</td>\n",
       "      <td>Bacteria</td>\n",
       "    </tr>\n",
       "    <tr>\n",
       "      <th>4</th>\n",
       "      <td>4</td>\n",
       "      <td>1</td>\n",
       "      <td>0</td>\n",
       "      <td>Bacteroidia</td>\n",
       "      <td>2589</td>\n",
       "      <td>Bacteroidaceae</td>\n",
       "      <td>Bacteroidales</td>\n",
       "      <td>Bacteroides</td>\n",
       "      <td>Bacteroidetes</td>\n",
       "      <td>unassigned</td>\n",
       "      <td>SUSC_BACTN TonB-dependent receptor SusC OS=Bac...</td>\n",
       "      <td>Bacteroides thetaiotaomicron</td>\n",
       "      <td>Bacteria</td>\n",
       "    </tr>\n",
       "  </tbody>\n",
       "</table>\n",
       "</div>"
      ],
      "text/plain": [
       "   Unnamed: 0  sid  values           class   did              family  \\\n",
       "0           0    1       0        Mammalia   382           Hominidae   \n",
       "1           1    1       0        Mammalia  2881           Hominidae   \n",
       "2           2    1       2      unassigned  2787          unassigned   \n",
       "3           3    1       0  Actinobacteria  2688  Bifidobacteriaceae   \n",
       "4           4    1       0     Bacteroidia  2589      Bacteroidaceae   \n",
       "\n",
       "               order            genus          phylum     kingdom  \\\n",
       "0           Primates             Homo        Chordata     Metazoa   \n",
       "1           Primates             Homo        Chordata     Metazoa   \n",
       "2         unassigned       unassigned        Chordata     Metazoa   \n",
       "3  Bifidobacteriales  Bifidobacterium  Actinobacteria  unassigned   \n",
       "4      Bacteroidales      Bacteroides   Bacteroidetes  unassigned   \n",
       "\n",
       "                                         metaprotein  \\\n",
       "0  CATG_HUMAN Cathepsin G OS=Homo sapiens GN=CTSG...   \n",
       "1  RP1L1_HUMAN Retinitis pigmentosa 1-like 1 prot...   \n",
       "2  TTHY_PANTR Transthyretin OS=Pan troglodytes GN...   \n",
       "3  TIG_BIFAA Trigger factor OS=Bifidobacterium ad...   \n",
       "4  SUSC_BACTN TonB-dependent receptor SusC OS=Bac...   \n",
       "\n",
       "                        species superkingdom  \n",
       "0                  Homo sapiens    Eukaryota  \n",
       "1                  Homo sapiens    Eukaryota  \n",
       "2                    unassigned    Eukaryota  \n",
       "3                    unassigned     Bacteria  \n",
       "4  Bacteroides thetaiotaomicron     Bacteria  "
      ]
     },
     "execution_count": 2,
     "metadata": {},
     "output_type": "execute_result"
    }
   ],
   "source": [
    "df_graph = pd.read_csv(\"graph.csv\")\n",
    "df_graph.head()"
   ]
  },
  {
   "cell_type": "code",
   "execution_count": null,
   "id": "fdd92d9a",
   "metadata": {},
   "outputs": [],
   "source": [
    "df_graph.shape"
   ]
  },
  {
   "cell_type": "code",
   "execution_count": 3,
   "id": "798f7aac",
   "metadata": {},
   "outputs": [
    {
     "data": {
      "text/html": [
       "<div>\n",
       "<style scoped>\n",
       "    .dataframe tbody tr th:only-of-type {\n",
       "        vertical-align: middle;\n",
       "    }\n",
       "\n",
       "    .dataframe tbody tr th {\n",
       "        vertical-align: top;\n",
       "    }\n",
       "\n",
       "    .dataframe thead th {\n",
       "        text-align: right;\n",
       "    }\n",
       "</style>\n",
       "<table border=\"1\" class=\"dataframe\">\n",
       "  <thead>\n",
       "    <tr style=\"text-align: right;\">\n",
       "      <th></th>\n",
       "      <th>sid</th>\n",
       "      <th>did</th>\n",
       "      <th>values</th>\n",
       "    </tr>\n",
       "  </thead>\n",
       "  <tbody>\n",
       "    <tr>\n",
       "      <th>0</th>\n",
       "      <td>1</td>\n",
       "      <td>382</td>\n",
       "      <td>0</td>\n",
       "    </tr>\n",
       "    <tr>\n",
       "      <th>1</th>\n",
       "      <td>1</td>\n",
       "      <td>2881</td>\n",
       "      <td>0</td>\n",
       "    </tr>\n",
       "    <tr>\n",
       "      <th>2</th>\n",
       "      <td>1</td>\n",
       "      <td>2787</td>\n",
       "      <td>2</td>\n",
       "    </tr>\n",
       "    <tr>\n",
       "      <th>3</th>\n",
       "      <td>1</td>\n",
       "      <td>2688</td>\n",
       "      <td>0</td>\n",
       "    </tr>\n",
       "    <tr>\n",
       "      <th>4</th>\n",
       "      <td>1</td>\n",
       "      <td>2589</td>\n",
       "      <td>0</td>\n",
       "    </tr>\n",
       "  </tbody>\n",
       "</table>\n",
       "</div>"
      ],
      "text/plain": [
       "   sid   did  values\n",
       "0    1   382       0\n",
       "1    1  2881       0\n",
       "2    1  2787       2\n",
       "3    1  2688       0\n",
       "4    1  2589       0"
      ]
     },
     "execution_count": 3,
     "metadata": {},
     "output_type": "execute_result"
    }
   ],
   "source": [
    "df_adjacency_matrix = df_graph[['sid', 'did', 'values']]\n",
    "df_adjacency_matrix.head()"
   ]
  },
  {
   "cell_type": "code",
   "execution_count": 4,
   "id": "f1699c3b",
   "metadata": {},
   "outputs": [
    {
     "name": "stderr",
     "output_type": "stream",
     "text": [
      "C:\\Users\\49171\\AppData\\Local\\Temp\\ipykernel_4740\\4102056461.py:1: SettingWithCopyWarning: \n",
      "A value is trying to be set on a copy of a slice from a DataFrame.\n",
      "Try using .loc[row_indexer,col_indexer] = value instead\n",
      "\n",
      "See the caveats in the documentation: https://pandas.pydata.org/pandas-docs/stable/user_guide/indexing.html#returning-a-view-versus-a-copy\n",
      "  df_adjacency_matrix['sid'] = 'p' + df_adjacency_matrix['sid'].astype(str)\n",
      "C:\\Users\\49171\\AppData\\Local\\Temp\\ipykernel_4740\\4102056461.py:2: SettingWithCopyWarning: \n",
      "A value is trying to be set on a copy of a slice from a DataFrame.\n",
      "Try using .loc[row_indexer,col_indexer] = value instead\n",
      "\n",
      "See the caveats in the documentation: https://pandas.pydata.org/pandas-docs/stable/user_guide/indexing.html#returning-a-view-versus-a-copy\n",
      "  df_adjacency_matrix['did'] = 'mp' + df_adjacency_matrix['did'].astype(str)\n"
     ]
    },
    {
     "data": {
      "text/html": [
       "<div>\n",
       "<style scoped>\n",
       "    .dataframe tbody tr th:only-of-type {\n",
       "        vertical-align: middle;\n",
       "    }\n",
       "\n",
       "    .dataframe tbody tr th {\n",
       "        vertical-align: top;\n",
       "    }\n",
       "\n",
       "    .dataframe thead th {\n",
       "        text-align: right;\n",
       "    }\n",
       "</style>\n",
       "<table border=\"1\" class=\"dataframe\">\n",
       "  <thead>\n",
       "    <tr style=\"text-align: right;\">\n",
       "      <th></th>\n",
       "      <th>sid</th>\n",
       "      <th>did</th>\n",
       "      <th>values</th>\n",
       "    </tr>\n",
       "  </thead>\n",
       "  <tbody>\n",
       "    <tr>\n",
       "      <th>0</th>\n",
       "      <td>p1</td>\n",
       "      <td>mp382</td>\n",
       "      <td>0</td>\n",
       "    </tr>\n",
       "    <tr>\n",
       "      <th>1</th>\n",
       "      <td>p1</td>\n",
       "      <td>mp2881</td>\n",
       "      <td>0</td>\n",
       "    </tr>\n",
       "    <tr>\n",
       "      <th>2</th>\n",
       "      <td>p1</td>\n",
       "      <td>mp2787</td>\n",
       "      <td>2</td>\n",
       "    </tr>\n",
       "    <tr>\n",
       "      <th>3</th>\n",
       "      <td>p1</td>\n",
       "      <td>mp2688</td>\n",
       "      <td>0</td>\n",
       "    </tr>\n",
       "    <tr>\n",
       "      <th>4</th>\n",
       "      <td>p1</td>\n",
       "      <td>mp2589</td>\n",
       "      <td>0</td>\n",
       "    </tr>\n",
       "    <tr>\n",
       "      <th>...</th>\n",
       "      <td>...</td>\n",
       "      <td>...</td>\n",
       "      <td>...</td>\n",
       "    </tr>\n",
       "    <tr>\n",
       "      <th>142507</th>\n",
       "      <td>p48</td>\n",
       "      <td>mp178</td>\n",
       "      <td>5</td>\n",
       "    </tr>\n",
       "    <tr>\n",
       "      <th>142508</th>\n",
       "      <td>p48</td>\n",
       "      <td>mp266</td>\n",
       "      <td>0</td>\n",
       "    </tr>\n",
       "    <tr>\n",
       "      <th>142509</th>\n",
       "      <td>p48</td>\n",
       "      <td>mp420</td>\n",
       "      <td>0</td>\n",
       "    </tr>\n",
       "    <tr>\n",
       "      <th>142510</th>\n",
       "      <td>p48</td>\n",
       "      <td>mp165</td>\n",
       "      <td>0</td>\n",
       "    </tr>\n",
       "    <tr>\n",
       "      <th>142511</th>\n",
       "      <td>p48</td>\n",
       "      <td>mp323</td>\n",
       "      <td>0</td>\n",
       "    </tr>\n",
       "  </tbody>\n",
       "</table>\n",
       "<p>142512 rows × 3 columns</p>\n",
       "</div>"
      ],
      "text/plain": [
       "        sid     did  values\n",
       "0        p1   mp382       0\n",
       "1        p1  mp2881       0\n",
       "2        p1  mp2787       2\n",
       "3        p1  mp2688       0\n",
       "4        p1  mp2589       0\n",
       "...     ...     ...     ...\n",
       "142507  p48   mp178       5\n",
       "142508  p48   mp266       0\n",
       "142509  p48   mp420       0\n",
       "142510  p48   mp165       0\n",
       "142511  p48   mp323       0\n",
       "\n",
       "[142512 rows x 3 columns]"
      ]
     },
     "execution_count": 4,
     "metadata": {},
     "output_type": "execute_result"
    }
   ],
   "source": [
    "df_adjacency_matrix['sid'] = 'p' + df_adjacency_matrix['sid'].astype(str)\n",
    "df_adjacency_matrix['did'] = 'mp' + df_adjacency_matrix['did'].astype(str)\n",
    "df_adjacency_matrix"
   ]
  },
  {
   "cell_type": "code",
   "execution_count": null,
   "id": "6c52d9ae",
   "metadata": {},
   "outputs": [],
   "source": [
    "# values_list = df_adjacency_matrix[[\"values\"]]\n",
    "# values_dict = dict.fromkeys(range(len(df_adjacency_matrix)), values_list)\n",
    "# values_dict"
   ]
  },
  {
   "cell_type": "code",
   "execution_count": null,
   "id": "30d61c99",
   "metadata": {},
   "outputs": [],
   "source": [
    "# values_array = df_adjacency_matrix[[\"values\"]].to_numpy()\n",
    "# values_array\n",
    "# values_array.shape"
   ]
  },
  {
   "cell_type": "code",
   "execution_count": null,
   "id": "bdc4f867",
   "metadata": {},
   "outputs": [],
   "source": [
    "# adjacency_matrix = pd.crosstab(df_adjacency_matrix.sid, df_adjacency_matrix.did, values = values_array, \n",
    "#                                aggfunc = \"count\")\n",
    "# idx = adjacency_matrix.columns.union(adjacency_matrix.index)\n",
    "# adjacency_matrix = adjacency_matrix.reindex(index = idx, columns=idx, fill_value=0)"
   ]
  },
  {
   "cell_type": "code",
   "execution_count": null,
   "id": "bb213450",
   "metadata": {},
   "outputs": [],
   "source": [
    "# adjacency_matrix"
   ]
  },
  {
   "cell_type": "code",
   "execution_count": 5,
   "id": "caec1424",
   "metadata": {},
   "outputs": [
    {
     "name": "stderr",
     "output_type": "stream",
     "text": [
      "C:\\Users\\49171\\AppData\\Local\\Temp\\ipykernel_4740\\185151609.py:10: FutureWarning: adjacency_matrix will return a scipy.sparse array instead of a matrix in Networkx 3.0.\n",
      "  adj_mat = nx.adjacency_matrix(G).A\n"
     ]
    }
   ],
   "source": [
    "values_list = df_adjacency_matrix.values.tolist()\n",
    "G = nx.MultiGraph()\n",
    "\n",
    "for i in range(len(values_list)):\n",
    "    G.add_edge(values_list[i][0], values_list[i][1], weight=values_list[i][2])\n",
    "    \n",
    "# G = nx.from_pandas_edgelist(df_adjacency_matrix, 'sid', 'did', ['values'], create_using=nx.DiGraph())\n",
    "# adj_mat = nx.to_pandas_adjacency(G, dtype=int)\n",
    "\n",
    "adj_mat = nx.adjacency_matrix(G).A\n"
   ]
  },
  {
   "cell_type": "code",
   "execution_count": 6,
   "id": "13f5dac8",
   "metadata": {
    "scrolled": true
   },
   "outputs": [
    {
     "data": {
      "text/plain": [
       "array([[ 0,  0,  0, ...,  0,  0,  0],\n",
       "       [ 0,  0,  0, ..., 34, 10, 13],\n",
       "       [ 0,  0,  0, ...,  0,  0,  0],\n",
       "       ...,\n",
       "       [ 0, 34,  0, ...,  0,  0,  0],\n",
       "       [ 0, 10,  0, ...,  0,  0,  0],\n",
       "       [ 0, 13,  0, ...,  0,  0,  0]], dtype=int32)"
      ]
     },
     "execution_count": 6,
     "metadata": {},
     "output_type": "execute_result"
    }
   ],
   "source": [
    "# adj_mat = nx.adjacency_matrix(G).A\n",
    "adj_mat"
   ]
  },
  {
   "cell_type": "code",
   "execution_count": 8,
   "id": "d96b5339",
   "metadata": {},
   "outputs": [
    {
     "name": "stderr",
     "output_type": "stream",
     "text": [
      "C:\\Users\\49171\\AppData\\Local\\Temp\\ipykernel_4740\\4138629699.py:1: DeprecationWarning: \n",
      "\n",
      "The scipy.sparse array containers will be used instead of matrices\n",
      "in Networkx 3.0. Use `to_scipy_sparse_array` instead.\n",
      "  aff_mat = nx.to_scipy_sparse_matrix(G)\n"
     ]
    }
   ],
   "source": [
    "aff_mat = nx.to_scipy_sparse_matrix(G)"
   ]
  },
  {
   "cell_type": "code",
   "execution_count": null,
   "id": "b0fd0ddd",
   "metadata": {},
   "outputs": [],
   "source": [
    "spec_clust_csv = SpectralClustering(n_clusters = 3, affinity='nearest_neighbors').fit(df_csv_data)"
   ]
  },
  {
   "cell_type": "code",
   "execution_count": null,
   "id": "342ed05e",
   "metadata": {},
   "outputs": [],
   "source": [
    "spec_clust_csv.labels_"
   ]
  },
  {
   "cell_type": "code",
   "execution_count": 13,
   "id": "44202ebd",
   "metadata": {},
   "outputs": [
    {
     "name": "stderr",
     "output_type": "stream",
     "text": [
      "C:\\Users\\49171\\AppData\\Local\\Programs\\Python\\Python39\\lib\\site-packages\\sklearn\\manifold\\_spectral_embedding.py:260: UserWarning: Graph is not fully connected, spectral embedding may not work as expected.\n",
      "  warnings.warn(\n"
     ]
    },
    {
     "data": {
      "text/plain": [
       "array([2, 1, 3, 1, 2, 1, 1, 2, 3, 1, 1, 3, 0, 0, 2, 1, 1, 1, 2, 2, 1, 3,\n",
       "       0, 0, 1, 3, 0, 2, 1, 1, 3, 3, 3, 2, 3, 1, 3, 2, 2, 2, 1, 2, 0, 0,\n",
       "       1, 1, 0, 1, 2, 0, 1, 1, 3, 2, 1, 1, 0, 1, 1, 3, 1, 2, 3, 1, 1, 2,\n",
       "       1, 1, 1, 2, 2, 3, 1, 1, 1, 1, 1, 1, 3, 2, 1, 1, 2, 2, 3, 1, 1, 2,\n",
       "       3, 3, 1, 2, 1, 1, 2, 2, 0, 2, 0, 2, 0, 0, 2, 3, 2, 2, 1, 3, 2, 1,\n",
       "       1, 1, 1, 2, 1, 1, 1, 1, 2, 1, 3, 0, 1, 1, 3, 0, 3, 1, 3, 2, 1, 3,\n",
       "       2, 1, 2, 3, 1, 0, 1, 3, 1, 0, 3, 1, 1, 0, 1, 0, 1, 1, 1, 3, 0, 1,\n",
       "       2, 2, 1, 1, 2, 1, 1, 1, 2, 1, 2, 0, 2, 1, 3, 0, 0, 0, 1, 1, 2, 2,\n",
       "       1, 1, 3, 1, 1, 1, 0, 3, 1, 3, 1, 1, 2, 1, 1, 3, 1, 1, 1, 1, 2, 3,\n",
       "       1, 1, 3, 3, 1, 3, 2, 1, 1, 1, 3, 0, 1, 1, 1, 1, 1, 1, 1, 3, 2, 1,\n",
       "       1, 1, 2, 3, 3, 3, 1, 1, 3, 1, 1, 1, 1, 1, 1, 1, 2, 2, 1, 2, 3, 3,\n",
       "       1, 1, 3, 2, 2, 1, 1, 3, 3, 1, 0, 1, 0, 1, 0, 1, 1, 1, 0, 1, 0, 1,\n",
       "       3, 1, 2, 0, 1, 1, 1, 2, 1, 1, 1, 1, 0, 1, 0, 3, 2, 1, 2, 2, 0, 3,\n",
       "       2, 1, 1, 2, 3, 2, 1, 3, 1, 1, 1, 1, 1, 1, 1, 1, 1, 0, 0, 1, 1, 1,\n",
       "       2, 1, 1, 2, 1, 1, 2, 1, 1, 1, 1, 3, 3, 1, 3, 1, 2, 2, 1, 1, 1, 1,\n",
       "       2, 2, 0, 1, 1, 2, 2, 0, 1, 0, 1, 1, 1, 3, 3, 0, 1, 1, 1, 1, 1, 2,\n",
       "       1, 1, 0, 1, 1, 1, 3, 0, 2, 2, 3, 2, 0, 2, 0, 1, 1, 1, 1, 1, 1, 1,\n",
       "       3, 1, 1, 1, 1, 0, 2, 3, 2, 3, 2, 0, 0, 1, 1, 2, 2, 2, 1, 1, 1, 2,\n",
       "       1, 3, 1, 1, 2, 3, 1, 1, 0, 1, 3, 3, 3, 2, 3, 1, 0, 2, 2, 3, 0, 1,\n",
       "       0, 2, 3, 1, 1, 1, 3, 2, 0, 1, 1, 1, 1, 1, 0, 1, 2, 1, 1, 2, 1, 2,\n",
       "       2, 2, 1, 1, 1, 3, 0, 1, 3, 0, 1, 2, 0, 3, 1, 3, 2, 1, 1, 1, 1, 2,\n",
       "       2, 0, 0, 0, 2, 2, 1, 2, 1, 2, 2, 2, 2, 1, 3, 2, 2, 2, 2, 2, 1, 3,\n",
       "       2, 1, 3, 1, 1, 2, 1, 2, 3, 3, 2, 1, 2, 1, 2, 1, 3, 3, 2, 1, 3, 1,\n",
       "       1, 3, 1, 1, 1, 2, 2, 2, 1, 2, 1, 2, 2, 3, 1, 1, 1, 2, 1, 2, 2, 3,\n",
       "       1, 3, 1, 1, 2, 1, 1, 2, 2, 1, 2, 2, 3, 3, 0, 2, 2, 1, 2, 2, 1, 2,\n",
       "       2, 1, 3, 3, 1, 1, 1, 1, 2, 1, 2, 1, 1, 2, 3, 2, 2, 2, 1, 1, 1, 2,\n",
       "       1, 1, 1, 1, 1, 2, 3, 2, 1, 1, 1, 2, 1, 2, 1, 1, 0, 1, 1, 1, 1, 1,\n",
       "       2, 1, 1, 1, 2, 2, 1, 3, 1, 1, 2, 3, 2, 1, 2, 2, 2, 2, 1, 1, 2, 1,\n",
       "       1, 1, 3, 2, 1, 1, 1, 1, 1, 2, 1, 1, 1, 1, 2, 1, 2, 3, 1, 3, 2, 2,\n",
       "       2, 2, 2, 1, 1, 1, 1, 1, 1, 2, 1, 2, 3, 1, 3, 1, 2, 2, 1, 2, 1, 2,\n",
       "       2, 2, 2, 2, 3, 2, 1, 2, 2, 1, 1, 2, 1, 1, 3, 1, 2, 1, 1, 1, 3, 1,\n",
       "       2, 1, 3, 3, 1, 2, 1, 3, 0, 1, 1, 2, 2, 1, 1, 1, 1, 3, 2, 0, 1, 1,\n",
       "       1, 1, 1, 0, 1, 1, 2, 2, 2, 1, 2, 1, 1, 2, 1, 1, 1, 2, 1, 2, 2, 1,\n",
       "       3, 1, 1, 2, 2, 3, 2, 1, 2, 1, 1, 2, 2, 2, 2, 2, 1, 1, 2, 1, 2, 3,\n",
       "       2, 2, 1, 2, 2, 1, 3, 1, 1, 1, 1, 1, 2, 1, 1, 2, 2, 1, 2, 2, 1, 2,\n",
       "       0, 2, 2, 2, 2, 1, 2, 1, 1, 1, 1, 2, 1, 2, 3, 1, 2, 2, 1, 2, 1, 1,\n",
       "       1, 1, 2, 2, 3, 2, 2, 1, 2, 2, 1, 2, 1, 1, 2, 1, 3, 1, 3, 2, 1, 1,\n",
       "       1, 1, 3, 2, 2, 3, 2, 1, 1, 1, 2, 1, 1, 2, 1, 1, 1, 0, 2, 2, 3, 2,\n",
       "       2, 2, 2, 1, 2, 3, 2, 2, 1, 2, 2, 1, 2, 1, 1, 3, 3, 1, 1, 2, 1, 2,\n",
       "       2, 2, 1, 2, 1, 1, 3, 2, 1, 2, 2, 2, 1, 3, 2, 1, 3, 3, 3, 1, 2, 1,\n",
       "       1, 1, 1, 3, 1, 2, 2, 2, 2, 2, 3, 1, 2, 1, 3, 1, 0, 2, 1, 1, 2, 1,\n",
       "       0, 1, 3, 1, 1, 2, 1, 2, 2, 2, 1, 3, 1, 2, 2, 2, 1, 2, 1, 2, 2, 1,\n",
       "       1, 2, 3, 1, 2, 3, 1, 2, 2, 2, 2, 1, 2, 3, 1, 2, 1, 3, 3, 2, 2, 2,\n",
       "       1, 1, 3, 2, 1, 2, 1, 1, 2, 2, 3, 2, 3, 1, 1, 1, 2, 1, 1, 2, 2, 1,\n",
       "       2, 1, 1, 1, 1, 1, 1, 3, 2, 1, 1, 1, 1, 1, 2, 1, 0, 2, 1, 3, 2, 0,\n",
       "       1, 0, 3, 1, 1, 0, 3, 3, 2, 1, 2, 2, 0, 2, 0, 0, 1, 1, 1, 1, 1, 0,\n",
       "       0, 1, 0, 0, 2, 3, 1, 1, 1, 1, 2, 1, 1, 1, 3, 2, 1, 2, 0, 1, 0, 1,\n",
       "       1, 1, 1, 1, 0, 1, 3, 2, 2, 1, 0, 2, 0, 2, 1, 0, 2, 1, 0, 2, 1, 1,\n",
       "       3, 1, 1, 1, 1, 0, 1, 1, 3, 2, 1, 2, 3, 1, 0, 1, 2, 3, 2, 2, 3, 1,\n",
       "       3, 2, 2, 1, 1, 3, 0, 1, 1, 1, 2, 1, 1, 0, 0, 0, 0, 1, 1, 2, 3, 1,\n",
       "       0, 1, 1, 1, 1, 1, 2, 2, 0, 2, 2, 1, 0, 2, 1, 2, 2, 3, 0, 2, 1, 2,\n",
       "       3, 1, 3, 1, 1, 1, 1, 1, 1, 1, 2, 3, 1, 1, 1, 1, 3, 0, 1, 3, 2, 1,\n",
       "       2, 0, 3, 2, 0, 1, 2, 3, 1, 2, 1, 1, 1, 2, 2, 1, 0, 1, 0, 2, 1, 1,\n",
       "       1, 1, 2, 0, 1, 2, 2, 0, 2, 0, 3, 1, 1, 1, 2, 1, 0, 1, 2, 2, 3, 3,\n",
       "       2, 3, 2, 1, 2, 1, 1, 1, 3, 1, 2, 3, 1, 1, 3, 3, 3, 2, 0, 1, 2, 0,\n",
       "       1, 1, 2, 1, 2, 0, 3, 2, 2, 3, 2, 1, 0, 1, 2, 2, 0, 2, 1, 1, 1, 1,\n",
       "       1, 1, 2, 1, 2, 1, 3, 3, 0, 1, 1, 3, 1, 2, 1, 2, 1, 0, 0, 1, 2, 3,\n",
       "       2, 0, 0, 0, 1, 0, 0, 0, 1, 2, 1, 3, 1, 1, 1, 0, 0, 1, 1, 1, 2, 1,\n",
       "       2, 1, 1, 1, 2, 0, 0, 3, 3, 3, 0, 0, 0, 0, 1, 1, 0, 0, 3, 1, 2, 1,\n",
       "       3, 1, 1, 0, 1, 3, 3, 1, 1, 1, 1, 1, 1, 1, 0, 1, 1, 1, 1, 2, 3, 2,\n",
       "       1, 2, 2, 1, 1, 1, 1, 3, 3, 1, 2, 1, 1, 1, 1, 0, 3, 1, 1, 1, 2, 1,\n",
       "       1, 2, 1, 1, 2, 1, 3, 0, 1, 3, 2, 1, 0, 0, 0, 2, 2, 1, 3, 1, 3, 2,\n",
       "       2, 0, 3, 1, 3, 1, 3, 0, 1, 0, 2, 2, 0, 1, 1, 2, 3, 1, 1, 0, 3, 3,\n",
       "       2, 2, 0, 1, 0, 2, 2, 0, 1, 3, 2, 1, 1, 2, 2, 1, 2, 3, 1, 2, 0, 3,\n",
       "       2, 2, 1, 1, 1, 0, 1, 2, 2, 1, 1, 3, 3, 1, 1, 1, 0, 3, 2, 1, 1, 1,\n",
       "       0, 1, 1, 3, 1, 0, 2, 2, 2, 3, 0, 0, 2, 0, 1, 1, 3, 1, 3, 2, 1, 2,\n",
       "       1, 0, 2, 1, 1, 1, 3, 2, 3, 1, 1, 1, 3, 2, 3, 3, 3, 3, 1, 2, 3, 1,\n",
       "       1, 0, 0, 2, 1, 1, 1, 1, 2, 1, 1, 0, 0, 1, 2, 1, 2, 1, 0, 1, 2, 3,\n",
       "       0, 0, 2, 1, 1, 1, 1, 0, 1, 1, 2, 1, 1, 1, 1, 0, 0, 1, 3, 3, 2, 1,\n",
       "       3, 0, 3, 1, 0, 0, 1, 0, 1, 0, 3, 2, 2, 1, 1, 1, 1, 2, 1, 0, 1, 0,\n",
       "       1, 0, 1, 1, 1, 2, 2, 1, 1, 2, 0, 1, 0, 1, 1, 0, 0, 1, 2, 0, 1, 0,\n",
       "       2, 2, 0, 0, 2, 2, 1, 2, 0, 1, 0, 1, 1, 0, 1, 0, 0, 1, 0, 1, 0, 1,\n",
       "       3, 1, 2, 1, 1, 0, 1, 2, 1, 0, 1, 0, 2, 1, 1, 0, 1, 0, 1, 1, 1, 1,\n",
       "       1, 2, 3, 1, 0, 2, 2, 1, 1, 2, 2, 3, 1, 2, 2, 0, 1, 0, 1, 3, 1, 1,\n",
       "       0, 1, 1, 0, 2, 2, 3, 1, 0, 0, 1, 3, 1, 0, 1, 1, 1, 2, 1, 2, 3, 0,\n",
       "       0, 2, 2, 2, 1, 1, 1, 1, 3, 1, 0, 1, 1, 1, 0, 1, 0, 1, 1, 0, 0, 1,\n",
       "       1, 2, 1, 0, 3, 0, 1, 1, 3, 1, 3, 2, 1, 2, 1, 0, 1, 0, 0, 2, 3, 1,\n",
       "       2, 1, 0, 1, 2, 1, 1, 0, 0, 3, 0, 2, 1, 0, 0, 1, 1, 1, 0, 2, 2, 1,\n",
       "       0, 1, 2, 2, 1, 3, 1, 1, 3, 0, 1, 3, 1, 2, 1, 1, 0, 1, 1, 3, 2, 0,\n",
       "       1, 0, 1, 3, 0, 1, 1, 2, 1, 0, 2, 0, 1, 1, 0, 2, 3, 1, 2, 1, 2, 3,\n",
       "       1, 2, 2, 1, 0, 0, 0, 3, 1, 0, 1, 1, 1, 0, 2, 2, 1, 1, 1, 2, 1, 1,\n",
       "       1, 1, 1, 1, 2, 3, 0, 1, 1, 1, 1, 2, 1, 0, 0, 1, 0, 0, 1, 1, 0, 1,\n",
       "       2, 0, 1, 1, 3, 1, 1, 2, 2, 1, 2, 0, 2, 2, 0, 1, 1, 1, 2, 2, 1, 1,\n",
       "       1, 1, 3, 3, 1, 0, 0, 0, 2, 0, 0, 1, 1, 2, 1, 3, 1, 0, 3, 2, 0, 0,\n",
       "       1, 1, 1, 1, 1, 0, 2, 1, 0, 1, 0, 1, 2, 2, 2, 1, 1, 1, 1, 1, 0, 1,\n",
       "       3, 1, 1, 2, 1, 2, 0, 0, 1, 1, 0, 2, 1, 2, 1, 0, 1, 3, 1, 0, 1, 0,\n",
       "       1, 1, 3, 3, 0, 3, 1, 1, 3, 0, 0, 1, 1, 0, 0, 1, 3, 1, 1, 0, 2, 2,\n",
       "       1, 3, 0, 1, 1, 0, 0, 1, 2, 1, 1, 3, 2, 0, 1, 1, 0, 2, 1, 0, 1, 1,\n",
       "       1, 1, 1, 1, 1, 2, 2, 1, 1, 1, 1, 1, 1, 3, 1, 1, 2, 2, 1, 1, 0, 0,\n",
       "       3, 0, 1, 0, 2, 1, 1, 0, 2, 0, 0, 2, 1, 0, 2, 2, 2, 1, 1, 1, 1, 2,\n",
       "       3, 2, 2, 3, 1, 1, 1, 2, 2, 1, 0, 1, 2, 0, 1, 1, 1, 1, 0, 0, 1, 2,\n",
       "       1, 1, 1, 1, 1, 1, 1, 1, 2, 1, 1, 1, 3, 1, 1, 1, 1, 1, 0, 2, 0, 1,\n",
       "       2, 1, 1, 1, 0, 0, 2, 1, 1, 1, 3, 1, 0, 2, 1, 2, 2, 1, 1, 1, 3, 1,\n",
       "       1, 1, 1, 3, 2, 3, 3, 2, 1, 2, 1, 3, 3, 0, 2, 3, 1, 3, 2, 3, 1, 1,\n",
       "       0, 2, 1, 3, 1, 1, 2, 1, 1, 2, 1, 1, 2, 1, 1, 3, 1, 2, 1, 2, 1, 1,\n",
       "       3, 1, 1, 2, 2, 1, 1, 0, 2, 3, 1, 1, 1, 1, 0, 2, 2, 2, 1, 3, 1, 0,\n",
       "       2, 3, 0, 2, 1, 2, 1, 1, 2, 3, 2, 1, 3, 1, 2, 0, 1, 2, 1, 2, 1, 2,\n",
       "       0, 1, 2, 1, 1, 1, 1, 2, 2, 1, 2, 2, 2, 1, 2, 2, 2, 1, 1, 3, 1, 1,\n",
       "       1, 2, 2, 1, 1, 1, 1, 1, 0, 1, 3, 2, 3, 0, 1, 1, 1, 1, 3, 1, 2, 1,\n",
       "       1, 1, 3, 3, 1, 2, 3, 1, 3, 2, 1, 1, 1, 1, 0, 3, 1, 1, 3, 1, 2, 0,\n",
       "       1, 2, 1, 0, 2, 1, 3, 3, 1, 0, 2, 1, 3, 1, 0, 1, 1, 1, 2, 3, 2, 1,\n",
       "       1, 3, 0, 2, 1, 1, 1, 0, 2, 2, 1, 1, 1, 1, 1, 1, 1, 2, 2, 1, 1, 2,\n",
       "       2, 2, 1, 1, 1, 2, 2, 1, 0, 1, 1, 1, 3, 2, 1, 0, 0, 2, 2, 3, 1, 1,\n",
       "       0, 1, 2, 3, 3, 1, 1, 1, 1, 2, 2, 0, 0, 3, 1, 2, 1, 1, 0, 3, 1, 1,\n",
       "       2, 1, 2, 1, 1, 1, 2, 2, 2, 1, 1, 1, 3, 0, 2, 2, 2, 1, 3, 1, 2, 1,\n",
       "       1, 2, 2, 1, 1, 1, 1, 2, 2, 1, 1, 2, 3, 2, 1, 1, 1, 2, 3, 2, 1, 2,\n",
       "       1, 0, 2, 1, 1, 1, 1, 1, 1, 2, 1, 2, 1, 2, 2, 1, 1, 1, 1, 1, 0, 1,\n",
       "       1, 2, 1, 2, 1, 1, 3, 3, 2, 2, 2, 2, 3, 0, 1, 1, 1, 3, 3, 2, 1, 1,\n",
       "       1, 0, 1, 1, 2, 2, 1, 1, 2, 0, 0, 1, 2, 1, 1, 1, 3, 2, 0, 2, 1, 1,\n",
       "       0, 2, 1, 0, 0, 2, 1, 1, 1, 3, 3, 1, 2, 1, 2, 0, 2, 3, 2, 1, 2, 3,\n",
       "       1, 1, 3, 2, 2, 2, 2, 1, 2, 3, 2, 1, 2, 1, 2, 1, 0, 1, 2, 2, 1, 2,\n",
       "       1, 2, 0, 3, 1, 3, 1, 2, 2, 1, 3, 1, 1, 1, 2, 1, 1, 1, 2, 1, 3, 1,\n",
       "       2, 2, 2, 0, 2, 1, 1, 1, 3, 0, 1, 3, 1, 0, 0, 3, 1, 0, 1, 1, 1, 1,\n",
       "       1, 3, 1, 1, 2, 1, 1, 0, 2, 1, 1, 2, 0, 2, 1, 2, 3, 1, 3, 1, 1, 3,\n",
       "       1, 0, 1, 0, 1, 1, 1, 1, 1, 1, 1, 0, 1, 1, 1, 1, 1, 3, 1, 1, 1, 0,\n",
       "       0, 0, 0, 1, 1, 1, 2, 1, 1, 2, 2, 1, 1, 1, 2, 1, 3, 1, 1, 1, 1, 2,\n",
       "       0, 1, 1, 1, 1, 1, 1, 0, 1, 3, 1, 1, 3, 2, 2, 0, 2, 3, 3, 2, 1, 1,\n",
       "       1, 1, 2, 3, 0, 1, 2, 3, 3, 1, 1, 1, 1, 3, 1, 1, 0, 3, 2, 2, 0, 2,\n",
       "       1, 1, 1, 0, 3, 1, 3, 2, 1, 1, 2, 3, 3, 3, 1, 1, 1, 1, 1, 2, 1, 1,\n",
       "       1, 1, 1, 1, 2, 2, 3, 1, 1, 2, 1, 2, 1, 1, 1, 2, 2, 1, 2, 2, 2, 2,\n",
       "       2, 0, 1, 1, 1, 0, 1, 3, 2, 2, 1, 1, 3, 1, 1, 2, 1, 1, 1, 1, 2, 2,\n",
       "       1, 2, 2, 1, 1, 3, 1, 1, 2, 1, 0, 1, 2, 3, 1, 1, 1, 1, 0, 1, 1, 1,\n",
       "       1, 1, 1, 2, 2, 3, 1, 1, 2, 1, 1, 2, 1, 3, 2, 3, 2, 3, 1, 1, 0, 0,\n",
       "       0, 1, 3, 2, 1, 1, 1, 2, 0, 1, 2, 0, 2, 1, 2, 1, 1, 1, 3, 1, 1, 1,\n",
       "       1, 0, 1, 3, 1, 1, 0, 1, 1, 1, 0, 1, 2, 1, 2, 1, 3, 1, 2, 1, 1, 1,\n",
       "       1, 1, 2, 1, 1, 1, 3, 1, 2, 1, 1, 1, 1, 0, 1, 3, 1, 3, 1, 2, 1, 3,\n",
       "       0, 1, 2, 1, 2, 0, 1, 1, 0, 1, 1, 2, 2, 1, 2, 2, 1, 1, 1, 2, 1, 1,\n",
       "       2, 2, 1, 3, 2, 3, 3, 1, 3, 2, 0, 1, 0, 2, 3, 1, 1, 2, 1, 1, 1, 1,\n",
       "       3, 2, 3, 1, 3, 0, 1, 1, 1, 1, 0, 0, 0, 1, 2, 2, 1, 0, 1, 1, 1, 1,\n",
       "       3, 1, 2, 2, 1, 2, 0, 3, 3, 3, 0, 2, 2, 1, 1, 1, 3, 3, 1, 1, 1, 1,\n",
       "       1, 1, 0, 0, 1, 1, 2, 0, 3, 2, 1, 1, 0, 1, 0, 1, 1, 1, 1, 1, 2, 3,\n",
       "       2, 3, 1, 2, 1, 1, 1, 3, 1, 2, 1, 0, 1, 0, 3, 1, 0, 1, 1, 1, 1, 3,\n",
       "       2, 1, 3, 1, 1, 1, 1, 2, 1, 2, 1, 1, 1, 0, 1, 1, 3, 2, 3, 2, 3, 1,\n",
       "       3, 3, 0, 3, 3, 3, 2, 3, 1, 0, 1, 0, 1, 1, 1, 1, 3, 1, 1, 1, 1, 1,\n",
       "       3, 2, 3, 1, 2, 2, 1, 1, 1, 3, 2, 1, 2, 1, 2, 1, 1, 0, 1, 1, 2, 3,\n",
       "       2, 3, 2, 2, 2, 2, 2, 2, 2, 2, 2, 2, 2, 2, 2, 2, 2, 2, 2, 2, 3, 3,\n",
       "       3, 3, 1, 1, 1, 1, 1, 1, 2, 1, 2, 1, 1, 1, 1, 1, 1, 1, 0, 1, 1, 1,\n",
       "       1, 0, 1])"
      ]
     },
     "execution_count": 13,
     "metadata": {},
     "output_type": "execute_result"
    }
   ],
   "source": [
    "np.set_printoptions(threshold=np.inf)\n",
    "spec_clust = SpectralClustering(n_clusters = 4, affinity='precomputed').fit_predict(adj_mat)\n",
    "spec_clust"
   ]
  },
  {
   "cell_type": "code",
   "execution_count": 11,
   "id": "76a305fa",
   "metadata": {},
   "outputs": [
    {
     "ename": "AttributeError",
     "evalue": "'SpectralClustering' object has no attribute 'shape'",
     "output_type": "error",
     "traceback": [
      "\u001b[1;31m---------------------------------------------------------------------------\u001b[0m",
      "\u001b[1;31mAttributeError\u001b[0m                            Traceback (most recent call last)",
      "Input \u001b[1;32mIn [11]\u001b[0m, in \u001b[0;36m<cell line: 1>\u001b[1;34m()\u001b[0m\n\u001b[1;32m----> 1\u001b[0m \u001b[43mspec_clust\u001b[49m\u001b[38;5;241;43m.\u001b[39;49m\u001b[43mshape\u001b[49m\n",
      "\u001b[1;31mAttributeError\u001b[0m: 'SpectralClustering' object has no attribute 'shape'"
     ]
    }
   ],
   "source": [
    "spec_clust.shape"
   ]
  }
 ],
 "metadata": {
  "kernelspec": {
   "display_name": "Python 3",
   "language": "python",
   "name": "python3"
  },
  "language_info": {
   "codemirror_mode": {
    "name": "ipython",
    "version": 3
   },
   "file_extension": ".py",
   "mimetype": "text/x-python",
   "name": "python",
   "nbconvert_exporter": "python",
   "pygments_lexer": "ipython3",
   "version": "3.10.7"
  }
 },
 "nbformat": 4,
 "nbformat_minor": 5
}
